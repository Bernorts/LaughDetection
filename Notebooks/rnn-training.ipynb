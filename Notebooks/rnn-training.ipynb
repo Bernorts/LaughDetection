{
 "cells": [
  {
   "cell_type": "code",
   "execution_count": 1,
   "metadata": {},
   "outputs": [
    {
     "name": "stderr",
     "output_type": "stream",
     "text": [
      "/Users/nsteins/Documents/DeepProduct/env/lib/python3.6/site-packages/h5py/__init__.py:34: FutureWarning: Conversion of the second argument of issubdtype from `float` to `np.floating` is deprecated. In future, it will be treated as `np.float64 == np.dtype(float).type`.\n",
      "  from ._conv import register_converters as _register_converters\n",
      "Using TensorFlow backend.\n"
     ]
    }
   ],
   "source": [
    "%matplotlib inline\n",
    "import matplotlib.pyplot as plt\n",
    "plt.rcParams['figure.figsize'] = (12,8)\n",
    "import numpy as np\n",
    "import tensorflow as tf\n",
    "import keras\n",
    "import pandas as pd"
   ]
  },
  {
   "cell_type": "code",
   "execution_count": 25,
   "metadata": {},
   "outputs": [],
   "source": [
    "from keras.preprocessing.sequence import pad_sequences\n",
    "\n",
    "def data_generator(batch_size, tfrecord):\n",
    "    max_len=10\n",
    "    records = list(tf.python_io.tf_record_iterator(tfrecord))\n",
    "    rec_len = len(records)\n",
    "    shuffle = np.random.permutation(range(rec_len))\n",
    "    num_batches = rec_len//batch_size - 1\n",
    "    j = 0\n",
    "\n",
    "    laugh_labels = [16, 17, 18, 19, 20, 21]\n",
    "    while True:\n",
    "        X = []\n",
    "        y = []\n",
    "        for idx in shuffle[j*batch_size:(j+1)*batch_size]:\n",
    "            example = records[idx]\n",
    "            tf_seq_example = tf.train.SequenceExample.FromString(example)\n",
    "            example_label = list(np.asarray(tf_seq_example.context.feature['labels'].int64_list.value))\n",
    "            laugh_bin = any((True for x in example_label if x in laugh_labels))\n",
    "            y.append(laugh_bin)\n",
    "\n",
    "            n_frames = len(tf_seq_example.feature_lists.feature_list['audio_embedding'].feature)\n",
    "            audio_frame = []\n",
    "            for i in range(n_frames):\n",
    "                audio_frame.append(np.frombuffer(tf_seq_example.feature_lists.feature_list['audio_embedding'].\n",
    "                                                         feature[i].bytes_list.value[0],np.uint8).astype(np.float32))\n",
    "            pad = [np.zeros([128], np.float32) for i in range(max_len-n_frames)]\n",
    "            audio_frame += pad\n",
    "            X.append(audio_frame)\n",
    "\n",
    "        j += 1\n",
    "        if j >= num_batches:\n",
    "            shuffle = np.random.permutation(range(rec_len))\n",
    "            j = 0\n",
    "\n",
    "        X = np.array(X)\n",
    "        yield X, np.array(y)"
   ]
  },
  {
   "cell_type": "code",
   "execution_count": 20,
   "metadata": {},
   "outputs": [],
   "source": [
    "g = data_generator(32,'../Data/eval_laugh_speech_subset.tfrecord')\n",
    "x, y = next(g)"
   ]
  },
  {
   "cell_type": "code",
   "execution_count": 22,
   "metadata": {},
   "outputs": [
    {
     "data": {
      "text/plain": [
       "32"
      ]
     },
     "execution_count": 22,
     "metadata": {},
     "output_type": "execute_result"
    }
   ],
   "source": [
    "len(x)"
   ]
  },
  {
   "cell_type": "code",
   "execution_count": 3,
   "metadata": {},
   "outputs": [
    {
     "name": "stderr",
     "output_type": "stream",
     "text": [
      "/Users/nsteins/Documents/DeepProduct/env/lib/python3.6/site-packages/ipykernel_launcher.py:11: UserWarning: Update your `Model` call to the Keras 2 API: `Model(inputs=Tensor(\"in..., outputs=Tensor(\"de...)`\n",
      "  # This is added back by InteractiveShellApp.init_path()\n"
     ]
    }
   ],
   "source": [
    "from keras.models import Sequential, Model\n",
    "from keras.layers import Dense, Dropout, BatchNormalization\n",
    "from keras.layers import LSTM\n",
    "\n",
    "inp = keras.Input((None, 128))\n",
    "x = BatchNormalization()(inp)\n",
    "x = Dropout(.5)(x)\n",
    "rnn = LSTM(64, activation='relu')(x)\n",
    "output = Dense(1, activation='sigmoid')(rnn)\n",
    "\n",
    "model = Model(input=inp, output=output)\n",
    "\n",
    "# try using different optimizers and different optimizer configs\n",
    "model.compile(loss='binary_crossentropy',\n",
    "              optimizer='adam',\n",
    "              metrics=['accuracy'])"
   ]
  },
  {
   "cell_type": "code",
   "execution_count": null,
   "metadata": {},
   "outputs": [],
   "source": [
    "batch_size=32\n",
    "train_gen = data_generator(batch_size,'bal_laugh_subset.tfrecord')\n",
    "val_gen = data_generator(batch_size,'eval_laugh_subset.tfrecord')\n",
    "\n",
    "model.fit_generator(train_gen,steps_per_epoch=212,epochs=40,validation_data=val_gen,validation_steps=586//32)"
   ]
  },
  {
   "cell_type": "code",
   "execution_count": 152,
   "metadata": {},
   "outputs": [
    {
     "data": {
      "text/plain": [
       "<matplotlib.legend.Legend at 0x1314a6b00>"
      ]
     },
     "execution_count": 152,
     "metadata": {},
     "output_type": "execute_result"
    },
    {
     "data": {
      "image/png": "[encoded data removed]",
      "text/plain": [
       "<matplotlib.figure.Figure at 0x130bc30b8>"
      ]
     },
     "metadata": {},
     "output_type": "display_data"
    }
   ],
   "source": [
    "plt.plot(model.history.history['acc'], label='train_acc')\n",
    "plt.plot(model.history.history['val_acc'], label='val_acc')\n",
    "plt.legend()"
   ]
  },
  {
   "cell_type": "code",
   "execution_count": 154,
   "metadata": {},
   "outputs": [],
   "source": [
    "model.save('Models/LSTM_trained_on_audioset_40epoch.h5')"
   ]
  },
  {
   "cell_type": "markdown",
   "metadata": {},
   "source": [
    "### Training on Speech/Laughter Subset"
   ]
  },
  {
   "cell_type": "code",
   "execution_count": 24,
   "metadata": {},
   "outputs": [
    {
     "name": "stderr",
     "output_type": "stream",
     "text": [
      "/Users/nsteins/Documents/DeepProduct/env/lib/python3.6/site-packages/ipykernel_launcher.py:14: UserWarning: Update your `Model` call to the Keras 2 API: `Model(inputs=Tensor(\"in..., outputs=Tensor(\"de...)`\n",
      "  \n"
     ]
    }
   ],
   "source": [
    "from keras.models import Sequential, Model\n",
    "from keras.layers import Dense, Dropout, BatchNormalization\n",
    "from keras.layers import LSTM\n",
    "from keras import regularizers\n",
    "\n",
    "inp = keras.Input((None, 128))\n",
    "x = BatchNormalization()(inp)\n",
    "x = Dropout(.5)(x)\n",
    "rnn = LSTM(128, activation='relu',\n",
    "        kernel_regularizer=regularizers.l2(0.01),\n",
    "        activity_regularizer=regularizers.l2(0.01))(x)\n",
    "output = Dense(1, activation='sigmoid')(rnn)\n",
    "\n",
    "model = Model(input=inp, output=output)\n",
    "\n",
    "# try using different optimizers and different optimizer configs\n",
    "model.compile(loss='binary_crossentropy',\n",
    "              optimizer='adam',\n",
    "              metrics=['accuracy'])"
   ]
  },
  {
   "cell_type": "code",
   "execution_count": 25,
   "metadata": {},
   "outputs": [
    {
     "name": "stdout",
     "output_type": "stream",
     "text": [
      "Epoch 1/100\n",
      "212/212 [==============================] - 9s - loss: 2.5897 - acc: 0.7841 - val_loss: 1.7475 - val_acc: 0.7852\n",
      "Epoch 2/100\n",
      "212/212 [==============================] - 7s - loss: 0.9229 - acc: 0.8474 - val_loss: 0.8975 - val_acc: 0.8164\n",
      "Epoch 3/100\n",
      "212/212 [==============================] - 7s - loss: 0.5860 - acc: 0.8662 - val_loss: 0.7889 - val_acc: 0.8418\n",
      "Epoch 4/100\n",
      "212/212 [==============================] - 8s - loss: 0.5002 - acc: 0.8644 - val_loss: 0.7431 - val_acc: 0.8379\n",
      "Epoch 5/100\n",
      "212/212 [==============================] - 8s - loss: 0.4566 - acc: 0.8747 - val_loss: 0.7285 - val_acc: 0.8320\n",
      "Epoch 6/100\n",
      "212/212 [==============================] - 7s - loss: 0.4408 - acc: 0.8768 - val_loss: 0.7016 - val_acc: 0.8477\n",
      "Epoch 7/100\n",
      "212/212 [==============================] - 7s - loss: 0.4224 - acc: 0.8819 - val_loss: 0.6493 - val_acc: 0.8535\n",
      "Epoch 8/100\n",
      "212/212 [==============================] - 7s - loss: 0.4113 - acc: 0.8825 - val_loss: 0.6355 - val_acc: 0.8379\n",
      "Epoch 9/100\n",
      "212/212 [==============================] - 7s - loss: 0.4043 - acc: 0.8805 - val_loss: 0.6490 - val_acc: 0.8379\n",
      "Epoch 10/100\n",
      "212/212 [==============================] - 7s - loss: 0.3980 - acc: 0.8809 - val_loss: 0.5764 - val_acc: 0.8594\n",
      "Epoch 11/100\n",
      "212/212 [==============================] - 7s - loss: 0.3878 - acc: 0.8835 - val_loss: 0.5622 - val_acc: 0.8535\n",
      "Epoch 12/100\n",
      "212/212 [==============================] - 7s - loss: 0.3887 - acc: 0.8837 - val_loss: 0.5984 - val_acc: 0.8438\n",
      "Epoch 13/100\n",
      "212/212 [==============================] - 7s - loss: 0.3786 - acc: 0.8833 - val_loss: 0.5758 - val_acc: 0.8418\n",
      "Epoch 14/100\n",
      "212/212 [==============================] - 7s - loss: 0.3771 - acc: 0.8813 - val_loss: 0.5878 - val_acc: 0.8379\n",
      "Epoch 15/100\n",
      "212/212 [==============================] - 7s - loss: 0.3692 - acc: 0.8859 - val_loss: 0.5919 - val_acc: 0.8242\n",
      "Epoch 16/100\n",
      "212/212 [==============================] - 7s - loss: 0.3724 - acc: 0.8843 - val_loss: 0.5491 - val_acc: 0.8574\n",
      "Epoch 17/100\n",
      "212/212 [==============================] - 7s - loss: 0.3671 - acc: 0.8861 - val_loss: 0.5228 - val_acc: 0.8438\n",
      "Epoch 18/100\n",
      "212/212 [==============================] - 7s - loss: 0.3653 - acc: 0.8843 - val_loss: 0.5094 - val_acc: 0.8730\n",
      "Epoch 19/100\n",
      "212/212 [==============================] - 8s - loss: 0.3615 - acc: 0.8855 - val_loss: 0.5324 - val_acc: 0.8574\n",
      "Epoch 20/100\n",
      "212/212 [==============================] - 8s - loss: 0.3636 - acc: 0.8833 - val_loss: 0.4844 - val_acc: 0.8730\n",
      "Epoch 21/100\n",
      "212/212 [==============================] - 7s - loss: 0.3574 - acc: 0.8864 - val_loss: 0.5194 - val_acc: 0.8672\n",
      "Epoch 22/100\n",
      "212/212 [==============================] - 7s - loss: 0.3552 - acc: 0.8856 - val_loss: 0.5582 - val_acc: 0.8496\n",
      "Epoch 23/100\n",
      "212/212 [==============================] - 7s - loss: 0.3528 - acc: 0.8834 - val_loss: 0.5174 - val_acc: 0.8320\n",
      "Epoch 24/100\n",
      "212/212 [==============================] - 7s - loss: 0.3477 - acc: 0.8887 - val_loss: 0.5114 - val_acc: 0.8711\n",
      "Epoch 25/100\n",
      "212/212 [==============================] - 7s - loss: 0.3530 - acc: 0.8866 - val_loss: 0.5237 - val_acc: 0.8418\n",
      "Epoch 26/100\n",
      "212/212 [==============================] - 7s - loss: 0.3462 - acc: 0.8924 - val_loss: 0.4945 - val_acc: 0.8633\n",
      "Epoch 27/100\n",
      "212/212 [==============================] - 7s - loss: 0.3456 - acc: 0.8903 - val_loss: 0.5256 - val_acc: 0.8438\n",
      "Epoch 28/100\n",
      "212/212 [==============================] - 7s - loss: 0.3452 - acc: 0.8889 - val_loss: 0.5052 - val_acc: 0.8340\n",
      "Epoch 29/100\n",
      "212/212 [==============================] - 7s - loss: 0.3447 - acc: 0.8872 - val_loss: 0.4720 - val_acc: 0.8809\n",
      "Epoch 30/100\n",
      "212/212 [==============================] - 7s - loss: 0.3393 - acc: 0.8909 - val_loss: 0.5158 - val_acc: 0.8594\n",
      "Epoch 31/100\n",
      "212/212 [==============================] - 7s - loss: 0.3413 - acc: 0.8884 - val_loss: 0.4519 - val_acc: 0.8750\n",
      "Epoch 32/100\n",
      "212/212 [==============================] - 8s - loss: 0.3379 - acc: 0.8906 - val_loss: 0.4803 - val_acc: 0.8223\n",
      "Epoch 33/100\n",
      "212/212 [==============================] - 7s - loss: 0.3356 - acc: 0.8918 - val_loss: 0.4469 - val_acc: 0.8711\n",
      "Epoch 34/100\n",
      "212/212 [==============================] - 7s - loss: 0.3362 - acc: 0.8924 - val_loss: 0.4921 - val_acc: 0.8359\n",
      "Epoch 35/100\n",
      "212/212 [==============================] - 9s - loss: 0.3302 - acc: 0.8915 - val_loss: 0.4861 - val_acc: 0.8418\n",
      "Epoch 36/100\n",
      "212/212 [==============================] - 7s - loss: 0.3314 - acc: 0.8909 - val_loss: 0.4943 - val_acc: 0.8555\n",
      "Epoch 37/100\n",
      "212/212 [==============================] - 7s - loss: 0.3355 - acc: 0.8908 - val_loss: 0.4744 - val_acc: 0.8672\n",
      "Epoch 38/100\n",
      "212/212 [==============================] - 7s - loss: 0.3324 - acc: 0.8903 - val_loss: 0.4992 - val_acc: 0.8555\n",
      "Epoch 39/100\n",
      "212/212 [==============================] - 7s - loss: 0.3282 - acc: 0.8959 - val_loss: 0.4706 - val_acc: 0.8457\n",
      "Epoch 40/100\n",
      "212/212 [==============================] - 7s - loss: 0.3308 - acc: 0.8912 - val_loss: 0.4893 - val_acc: 0.8633\n",
      "Epoch 41/100\n",
      "212/212 [==============================] - 7s - loss: 0.3285 - acc: 0.8906 - val_loss: 0.4701 - val_acc: 0.8652\n",
      "Epoch 42/100\n",
      "212/212 [==============================] - 7s - loss: 0.3232 - acc: 0.8943 - val_loss: 0.4880 - val_acc: 0.8555\n",
      "Epoch 43/100\n",
      "212/212 [==============================] - 7s - loss: 0.3340 - acc: 0.8906 - val_loss: 0.4919 - val_acc: 0.8457\n",
      "Epoch 44/100\n",
      "212/212 [==============================] - 7s - loss: 0.3216 - acc: 0.8915 - val_loss: 0.4609 - val_acc: 0.8555\n",
      "Epoch 45/100\n",
      "212/212 [==============================] - 7s - loss: 0.3255 - acc: 0.8903 - val_loss: 0.4950 - val_acc: 0.8438\n",
      "Epoch 46/100\n",
      "212/212 [==============================] - 7s - loss: 0.3266 - acc: 0.8918 - val_loss: 0.5023 - val_acc: 0.8320\n",
      "Epoch 47/100\n",
      "212/212 [==============================] - 7s - loss: 0.3253 - acc: 0.8915 - val_loss: 0.5113 - val_acc: 0.8398\n",
      "Epoch 48/100\n",
      "212/212 [==============================] - 7s - loss: 0.3213 - acc: 0.8946 - val_loss: 0.4986 - val_acc: 0.8516\n",
      "Epoch 49/100\n",
      "212/212 [==============================] - 7s - loss: 0.3271 - acc: 0.8887 - val_loss: 0.4632 - val_acc: 0.8672\n",
      "Epoch 50/100\n",
      "212/212 [==============================] - 7s - loss: 0.3263 - acc: 0.8896 - val_loss: 0.4849 - val_acc: 0.8477\n",
      "Epoch 51/100\n",
      "212/212 [==============================] - 7s - loss: 0.3234 - acc: 0.8934 - val_loss: 0.4489 - val_acc: 0.8574\n",
      "Epoch 52/100\n",
      "212/212 [==============================] - 7s - loss: 0.3269 - acc: 0.8928 - val_loss: 0.4820 - val_acc: 0.8516\n",
      "Epoch 53/100\n",
      "212/212 [==============================] - 7s - loss: 0.3208 - acc: 0.8927 - val_loss: 0.4746 - val_acc: 0.8418\n",
      "Epoch 54/100\n",
      "212/212 [==============================] - 7s - loss: 0.3213 - acc: 0.8953 - val_loss: 0.4418 - val_acc: 0.8613\n",
      "Epoch 55/100\n",
      "212/212 [==============================] - 7s - loss: 0.3267 - acc: 0.8897 - val_loss: 0.4531 - val_acc: 0.8438\n",
      "Epoch 56/100\n",
      "212/212 [==============================] - 7s - loss: 0.3252 - acc: 0.8918 - val_loss: 0.4513 - val_acc: 0.8438\n",
      "Epoch 57/100\n",
      "212/212 [==============================] - 7s - loss: 0.3121 - acc: 0.8971 - val_loss: 0.4714 - val_acc: 0.8496\n",
      "Epoch 58/100\n",
      "212/212 [==============================] - 7s - loss: 0.3235 - acc: 0.8939 - val_loss: 0.4662 - val_acc: 0.8516\n",
      "Epoch 59/100\n",
      "212/212 [==============================] - 7s - loss: 0.3146 - acc: 0.8981 - val_loss: 0.4944 - val_acc: 0.8340\n",
      "Epoch 60/100\n",
      "212/212 [==============================] - 7s - loss: 0.3219 - acc: 0.8928 - val_loss: 0.4555 - val_acc: 0.8750\n",
      "Epoch 61/100\n",
      "212/212 [==============================] - 7s - loss: 0.3203 - acc: 0.8937 - val_loss: 0.4978 - val_acc: 0.8418\n",
      "Epoch 62/100\n",
      "212/212 [==============================] - 7s - loss: 0.3056 - acc: 0.8996 - val_loss: 0.4320 - val_acc: 0.8691\n",
      "Epoch 63/100\n",
      "212/212 [==============================] - 7s - loss: 0.3204 - acc: 0.8952 - val_loss: 0.4782 - val_acc: 0.8613\n",
      "Epoch 64/100\n",
      "212/212 [==============================] - 7s - loss: 0.3185 - acc: 0.8940 - val_loss: 0.4683 - val_acc: 0.8477\n",
      "Epoch 65/100\n",
      "212/212 [==============================] - 7s - loss: 0.3201 - acc: 0.8897 - val_loss: 0.4754 - val_acc: 0.8398\n",
      "Epoch 66/100\n",
      "212/212 [==============================] - 7s - loss: 0.3086 - acc: 0.8986 - val_loss: 0.4607 - val_acc: 0.8535\n",
      "Epoch 67/100\n",
      "212/212 [==============================] - 7s - loss: 0.3155 - acc: 0.8976 - val_loss: 0.4437 - val_acc: 0.8633\n",
      "Epoch 68/100\n",
      "212/212 [==============================] - 7s - loss: 0.3103 - acc: 0.8965 - val_loss: 0.4178 - val_acc: 0.8730\n",
      "Epoch 69/100\n",
      "212/212 [==============================] - 7s - loss: 0.3208 - acc: 0.8922 - val_loss: 0.4754 - val_acc: 0.8301\n",
      "Epoch 70/100\n",
      "212/212 [==============================] - 7s - loss: 0.3078 - acc: 0.8984 - val_loss: 0.4419 - val_acc: 0.8633\n",
      "Epoch 71/100\n",
      "212/212 [==============================] - 7s - loss: 0.3121 - acc: 0.8974 - val_loss: 0.5031 - val_acc: 0.8438\n",
      "Epoch 72/100\n",
      "212/212 [==============================] - 7s - loss: 0.3134 - acc: 0.8927 - val_loss: 0.4263 - val_acc: 0.8848\n",
      "Epoch 73/100\n",
      "212/212 [==============================] - 7s - loss: 0.3140 - acc: 0.8943 - val_loss: 0.5020 - val_acc: 0.8496\n",
      "Epoch 74/100\n",
      "212/212 [==============================] - 8s - loss: 0.3061 - acc: 0.9004 - val_loss: 0.4424 - val_acc: 0.8770\n",
      "Epoch 75/100\n",
      "212/212 [==============================] - 7s - loss: 0.3118 - acc: 0.8995 - val_loss: 0.4837 - val_acc: 0.8418\n",
      "Epoch 76/100\n",
      "212/212 [==============================] - 7s - loss: 0.3163 - acc: 0.8968 - val_loss: 0.4411 - val_acc: 0.8691\n",
      "Epoch 77/100\n",
      "212/212 [==============================] - 7s - loss: 0.3078 - acc: 0.8980 - val_loss: 0.4609 - val_acc: 0.8613\n",
      "Epoch 78/100\n",
      "212/212 [==============================] - 7s - loss: 0.3140 - acc: 0.8978 - val_loss: 0.4262 - val_acc: 0.8652\n",
      "Epoch 79/100\n",
      "212/212 [==============================] - 7s - loss: 0.3167 - acc: 0.8977 - val_loss: 0.3980 - val_acc: 0.8867\n",
      "Epoch 80/100\n",
      "212/212 [==============================] - 7s - loss: 0.3097 - acc: 0.8967 - val_loss: 0.4708 - val_acc: 0.8555\n",
      "Epoch 81/100\n",
      "212/212 [==============================] - 7s - loss: 0.3154 - acc: 0.8914 - val_loss: 0.4793 - val_acc: 0.8418\n",
      "Epoch 82/100\n",
      "212/212 [==============================] - 7s - loss: 0.3035 - acc: 0.9004 - val_loss: 0.4741 - val_acc: 0.8379\n",
      "Epoch 83/100\n",
      "212/212 [==============================] - 7s - loss: 0.3111 - acc: 0.8956 - val_loss: 0.4197 - val_acc: 0.8652\n",
      "Epoch 84/100\n",
      "212/212 [==============================] - 9s - loss: 0.3090 - acc: 0.9020 - val_loss: 0.4538 - val_acc: 0.8789\n",
      "Epoch 85/100\n",
      "212/212 [==============================] - 8s - loss: 0.3070 - acc: 0.8977 - val_loss: 0.4545 - val_acc: 0.8770\n",
      "Epoch 86/100\n",
      "212/212 [==============================] - 11s - loss: 0.3091 - acc: 0.8978 - val_loss: 0.4717 - val_acc: 0.8594\n",
      "Epoch 87/100\n",
      "212/212 [==============================] - 8s - loss: 0.3061 - acc: 0.9024 - val_loss: 0.4560 - val_acc: 0.8594\n",
      "Epoch 88/100\n",
      "212/212 [==============================] - 9s - loss: 0.3129 - acc: 0.8948 - val_loss: 0.4952 - val_acc: 0.8613\n",
      "Epoch 89/100\n",
      "212/212 [==============================] - 8s - loss: 0.3086 - acc: 0.8993 - val_loss: 0.5040 - val_acc: 0.8418\n",
      "Epoch 90/100\n",
      "212/212 [==============================] - 14s - loss: 0.2992 - acc: 0.9032 - val_loss: 0.4587 - val_acc: 0.8516\n",
      "Epoch 91/100\n",
      "212/212 [==============================] - 8s - loss: 0.3060 - acc: 0.8981 - val_loss: 0.5022 - val_acc: 0.8242\n",
      "Epoch 92/100\n",
      "212/212 [==============================] - 8s - loss: 0.3015 - acc: 0.9015 - val_loss: 0.4558 - val_acc: 0.8594\n",
      "Epoch 93/100\n",
      "212/212 [==============================] - 8s - loss: 0.3102 - acc: 0.8974 - val_loss: 0.4795 - val_acc: 0.8535\n",
      "Epoch 94/100\n",
      "212/212 [==============================] - 8s - loss: 0.3017 - acc: 0.9012 - val_loss: 0.4655 - val_acc: 0.8477\n",
      "Epoch 95/100\n",
      "212/212 [==============================] - 8s - loss: 0.3135 - acc: 0.8933 - val_loss: 0.5004 - val_acc: 0.8418\n",
      "Epoch 96/100\n",
      "212/212 [==============================] - 8s - loss: 0.3036 - acc: 0.9009 - val_loss: 0.4552 - val_acc: 0.8281\n",
      "Epoch 97/100\n",
      "212/212 [==============================] - 8s - loss: 0.3044 - acc: 0.9004 - val_loss: 0.4988 - val_acc: 0.8223\n",
      "Epoch 98/100\n",
      "212/212 [==============================] - 8s - loss: 0.3046 - acc: 0.8978 - val_loss: 0.4355 - val_acc: 0.8789\n",
      "Epoch 99/100\n",
      "212/212 [==============================] - 8s - loss: 0.3092 - acc: 0.8996 - val_loss: 0.4625 - val_acc: 0.8477\n",
      "Epoch 100/100\n",
      "212/212 [==============================] - 9s - loss: 0.2986 - acc: 0.9036 - val_loss: 0.4674 - val_acc: 0.8535\n"
     ]
    },
    {
     "data": {
      "text/plain": [
       "<keras.callbacks.History at 0x12a3aea58>"
      ]
     },
     "execution_count": 25,
     "metadata": {},
     "output_type": "execute_result"
    }
   ],
   "source": [
    "batch_size=32\n",
    "train_gen = data_generator(batch_size,'Data/bal_laugh_speech_subset.tfrecord')\n",
    "val_gen = data_generator(128,'Data/eval_laugh_speech_subset.tfrecord')\n",
    "\n",
    "model.fit_generator(train_gen,steps_per_epoch=212,epochs=100,validation_data=val_gen,validation_steps=586//128)"
   ]
  },
  {
   "cell_type": "code",
   "execution_count": 26,
   "metadata": {},
   "outputs": [
    {
     "data": {
      "text/plain": [
       "<matplotlib.legend.Legend at 0x12a622a90>"
      ]
     },
     "execution_count": 26,
     "metadata": {},
     "output_type": "execute_result"
    },
    {
     "data": {
      "image/png": "[encoded data removed]",
      "text/plain": [
       "<matplotlib.figure.Figure at 0x128606a90>"
      ]
     },
     "metadata": {},
     "output_type": "display_data"
    }
   ],
   "source": [
    "plt.plot(model.history.history['acc'], label='train_acc')\n",
    "plt.plot(model.history.history['val_acc'], label='val_acc')\n",
    "plt.legend()"
   ]
  },
  {
   "cell_type": "code",
   "execution_count": 27,
   "metadata": {},
   "outputs": [],
   "source": [
    "model.save('Models/LSTM_trained_on_laugh_speech_audioset_100epoch.h5')"
   ]
  },
  {
   "cell_type": "markdown",
   "metadata": {},
   "source": [
    "## laugh/speech on full audioset"
   ]
  },
  {
   "cell_type": "code",
   "execution_count": 14,
   "metadata": {},
   "outputs": [
    {
     "name": "stderr",
     "output_type": "stream",
     "text": [
      "/Users/nsteins/Documents/DeepProduct/env/lib/python3.6/site-packages/ipykernel_launcher.py:14: UserWarning: Update your `Model` call to the Keras 2 API: `Model(inputs=Tensor(\"in..., outputs=Tensor(\"de...)`\n",
      "  \n"
     ]
    }
   ],
   "source": [
    "from keras.models import Sequential, Model\n",
    "from keras.layers import Dense, Dropout, BatchNormalization\n",
    "from keras.layers import LSTM\n",
    "from keras import regularizers\n",
    "\n",
    "inp = keras.Input((None, 128))\n",
    "x = BatchNormalization()(inp)\n",
    "x = Dropout(.5)(x)\n",
    "rnn = LSTM(128, activation='relu',\n",
    "        kernel_regularizer=regularizers.l2(0.01),\n",
    "        activity_regularizer=regularizers.l2(0.01))(x)\n",
    "output = Dense(1, activation='sigmoid')(rnn)\n",
    "\n",
    "model = Model(input=inp, output=output)\n",
    "\n",
    "# try using different optimizers and different optimizer configs\n",
    "model.compile(loss='binary_crossentropy',\n",
    "              optimizer='adam',\n",
    "              metrics=['accuracy'])"
   ]
  },
  {
   "cell_type": "code",
   "execution_count": 26,
   "metadata": {},
   "outputs": [
    {
     "name": "stdout",
     "output_type": "stream",
     "text": [
      "Epoch 1/100\n",
      "586/586 [==============================] - 27s 47ms/step - loss: 1.3768 - acc: 0.8348 - val_loss: 0.5487 - val_acc: 0.8472\n",
      "Epoch 2/100\n",
      "586/586 [==============================] - 24s 41ms/step - loss: 0.4776 - acc: 0.8664 - val_loss: 0.4534 - val_acc: 0.8785\n",
      "Epoch 3/100\n",
      "586/586 [==============================] - 23s 39ms/step - loss: 0.4234 - acc: 0.8758 - val_loss: 0.4409 - val_acc: 0.8559\n",
      "Epoch 4/100\n",
      "586/586 [==============================] - 23s 38ms/step - loss: 0.4020 - acc: 0.8788 - val_loss: 0.4122 - val_acc: 0.8611\n",
      "Epoch 5/100\n",
      "586/586 [==============================] - 22s 38ms/step - loss: 0.3862 - acc: 0.8791 - val_loss: 0.4017 - val_acc: 0.8750\n",
      "Epoch 6/100\n",
      "586/586 [==============================] - 23s 39ms/step - loss: 0.3790 - acc: 0.8806 - val_loss: 0.3858 - val_acc: 0.8819\n",
      "Epoch 7/100\n",
      "586/586 [==============================] - 24s 41ms/step - loss: 0.3677 - acc: 0.8832 - val_loss: 0.3881 - val_acc: 0.8559\n",
      "Epoch 8/100\n",
      "586/586 [==============================] - 24s 42ms/step - loss: 0.3623 - acc: 0.8815 - val_loss: 0.3881 - val_acc: 0.8715\n",
      "Epoch 9/100\n",
      "586/586 [==============================] - 23s 40ms/step - loss: 0.3581 - acc: 0.8858 - val_loss: 0.4056 - val_acc: 0.8611\n",
      "Epoch 10/100\n",
      "586/586 [==============================] - 23s 40ms/step - loss: 0.3532 - acc: 0.8839 - val_loss: 0.3528 - val_acc: 0.8785\n",
      "Epoch 11/100\n",
      "586/586 [==============================] - 21s 35ms/step - loss: 0.3483 - acc: 0.8846 - val_loss: 0.3726 - val_acc: 0.8767\n",
      "Epoch 12/100\n",
      "586/586 [==============================] - 21s 35ms/step - loss: 0.3449 - acc: 0.8856 - val_loss: 0.3556 - val_acc: 0.8698\n",
      "Epoch 13/100\n",
      "586/586 [==============================] - 20s 34ms/step - loss: 0.3450 - acc: 0.8859 - val_loss: 0.3698 - val_acc: 0.8681\n",
      "Epoch 14/100\n",
      "586/586 [==============================] - 20s 34ms/step - loss: 0.3394 - acc: 0.8858 - val_loss: 0.3712 - val_acc: 0.8698\n",
      "Epoch 15/100\n",
      "586/586 [==============================] - 20s 35ms/step - loss: 0.3408 - acc: 0.8837 - val_loss: 0.3660 - val_acc: 0.8663\n",
      "Epoch 16/100\n",
      "586/586 [==============================] - 20s 35ms/step - loss: 0.3378 - acc: 0.8852 - val_loss: 0.3522 - val_acc: 0.8663\n",
      "Epoch 17/100\n",
      "586/586 [==============================] - 20s 35ms/step - loss: 0.3363 - acc: 0.8864 - val_loss: 0.3622 - val_acc: 0.8715\n",
      "Epoch 18/100\n",
      "586/586 [==============================] - 20s 35ms/step - loss: 0.3326 - acc: 0.8887 - val_loss: 0.3681 - val_acc: 0.8715\n",
      "Epoch 19/100\n",
      "586/586 [==============================] - 21s 35ms/step - loss: 0.3332 - acc: 0.8889 - val_loss: 0.3523 - val_acc: 0.8802\n",
      "Epoch 20/100\n",
      "586/586 [==============================] - 21s 35ms/step - loss: 0.3309 - acc: 0.8878 - val_loss: 0.3358 - val_acc: 0.8837\n",
      "Epoch 21/100\n",
      "586/586 [==============================] - 22s 37ms/step - loss: 0.3308 - acc: 0.8871 - val_loss: 0.3729 - val_acc: 0.8594\n",
      "Epoch 22/100\n",
      "586/586 [==============================] - 21s 36ms/step - loss: 0.3276 - acc: 0.8885 - val_loss: 0.3485 - val_acc: 0.8750\n",
      "Epoch 23/100\n",
      "586/586 [==============================] - 21s 37ms/step - loss: 0.3247 - acc: 0.8878 - val_loss: 0.3595 - val_acc: 0.8750\n",
      "Epoch 24/100\n",
      "586/586 [==============================] - 22s 37ms/step - loss: 0.3289 - acc: 0.8881 - val_loss: 0.3528 - val_acc: 0.8785\n",
      "Epoch 25/100\n",
      "586/586 [==============================] - 22s 37ms/step - loss: 0.3272 - acc: 0.8880 - val_loss: 0.3584 - val_acc: 0.8646\n",
      "Epoch 26/100\n",
      "586/586 [==============================] - 21s 37ms/step - loss: 0.3243 - acc: 0.8882 - val_loss: 0.3694 - val_acc: 0.8594\n",
      "Epoch 27/100\n",
      "586/586 [==============================] - 22s 37ms/step - loss: 0.3206 - acc: 0.8891 - val_loss: 0.3560 - val_acc: 0.8837\n",
      "Epoch 28/100\n",
      "586/586 [==============================] - 22s 38ms/step - loss: 0.3223 - acc: 0.8888 - val_loss: 0.3592 - val_acc: 0.8681\n",
      "Epoch 29/100\n",
      "586/586 [==============================] - 22s 38ms/step - loss: 0.3246 - acc: 0.8864 - val_loss: 0.3738 - val_acc: 0.8611\n",
      "Epoch 30/100\n",
      "586/586 [==============================] - 22s 37ms/step - loss: 0.3201 - acc: 0.8897 - val_loss: 0.3583 - val_acc: 0.8594\n",
      "Epoch 31/100\n",
      "586/586 [==============================] - 22s 37ms/step - loss: 0.3232 - acc: 0.8862 - val_loss: 0.3538 - val_acc: 0.8785\n",
      "Epoch 32/100\n",
      "586/586 [==============================] - 22s 37ms/step - loss: 0.3195 - acc: 0.8880 - val_loss: 0.3557 - val_acc: 0.8681\n",
      "Epoch 33/100\n",
      "586/586 [==============================] - 22s 37ms/step - loss: 0.3209 - acc: 0.8876 - val_loss: 0.3497 - val_acc: 0.8715\n",
      "Epoch 34/100\n",
      "586/586 [==============================] - 22s 37ms/step - loss: 0.3190 - acc: 0.8890 - val_loss: 0.3466 - val_acc: 0.8767\n",
      "Epoch 35/100\n",
      "586/586 [==============================] - 23s 39ms/step - loss: 0.3188 - acc: 0.8888 - val_loss: 0.3544 - val_acc: 0.8646\n",
      "Epoch 36/100\n",
      "586/586 [==============================] - 22s 38ms/step - loss: 0.3159 - acc: 0.8893 - val_loss: 0.3312 - val_acc: 0.8872\n",
      "Epoch 37/100\n",
      "586/586 [==============================] - 22s 38ms/step - loss: 0.3180 - acc: 0.8895 - val_loss: 0.3690 - val_acc: 0.8715\n",
      "Epoch 38/100\n",
      "586/586 [==============================] - 22s 38ms/step - loss: 0.3199 - acc: 0.8872 - val_loss: 0.3217 - val_acc: 0.8837\n",
      "Epoch 39/100\n",
      "586/586 [==============================] - 22s 37ms/step - loss: 0.3149 - acc: 0.8883 - val_loss: 0.3605 - val_acc: 0.8750\n",
      "Epoch 40/100\n",
      "586/586 [==============================] - 22s 38ms/step - loss: 0.3159 - acc: 0.8882 - val_loss: 0.4122 - val_acc: 0.8490\n",
      "Epoch 41/100\n",
      "586/586 [==============================] - 22s 38ms/step - loss: 0.3163 - acc: 0.8905 - val_loss: 0.3377 - val_acc: 0.8802\n",
      "Epoch 42/100\n",
      "586/586 [==============================] - 22s 37ms/step - loss: 0.3153 - acc: 0.8908 - val_loss: 0.3435 - val_acc: 0.8681\n",
      "Epoch 43/100\n",
      "586/586 [==============================] - 23s 38ms/step - loss: 0.3162 - acc: 0.8909 - val_loss: 0.3278 - val_acc: 0.8889\n",
      "Epoch 44/100\n",
      "586/586 [==============================] - 22s 38ms/step - loss: 0.3172 - acc: 0.8898 - val_loss: 0.3757 - val_acc: 0.8559\n",
      "Epoch 45/100\n",
      "586/586 [==============================] - 22s 38ms/step - loss: 0.3171 - acc: 0.8892 - val_loss: 0.3658 - val_acc: 0.8715\n",
      "Epoch 46/100\n",
      "586/586 [==============================] - 22s 37ms/step - loss: 0.3146 - acc: 0.8883 - val_loss: 0.3757 - val_acc: 0.8715\n",
      "Epoch 47/100\n",
      "586/586 [==============================] - 23s 39ms/step - loss: 0.3114 - acc: 0.8890 - val_loss: 0.3242 - val_acc: 0.8941\n",
      "Epoch 48/100\n",
      "586/586 [==============================] - 26s 45ms/step - loss: 0.3155 - acc: 0.8898 - val_loss: 0.3426 - val_acc: 0.8646\n",
      "Epoch 49/100\n",
      "586/586 [==============================] - 25s 43ms/step - loss: 0.3112 - acc: 0.8906 - val_loss: 0.3741 - val_acc: 0.8628\n",
      "Epoch 50/100\n",
      "586/586 [==============================] - 26s 45ms/step - loss: 0.3149 - acc: 0.8901 - val_loss: 0.3422 - val_acc: 0.8715\n",
      "Epoch 51/100\n",
      "586/586 [==============================] - 23s 40ms/step - loss: 0.3158 - acc: 0.8880 - val_loss: 0.3673 - val_acc: 0.8628\n",
      "Epoch 52/100\n",
      "586/586 [==============================] - 22s 38ms/step - loss: 0.3087 - acc: 0.8911 - val_loss: 0.3530 - val_acc: 0.8715\n",
      "Epoch 53/100\n",
      "586/586 [==============================] - 23s 39ms/step - loss: 0.3126 - acc: 0.8892 - val_loss: 0.3798 - val_acc: 0.8524\n",
      "Epoch 54/100\n",
      "586/586 [==============================] - 23s 39ms/step - loss: 0.3141 - acc: 0.8884 - val_loss: 0.3816 - val_acc: 0.8715\n",
      "Epoch 55/100\n",
      "586/586 [==============================] - 22s 38ms/step - loss: 0.3139 - acc: 0.8897 - val_loss: 0.3690 - val_acc: 0.8542\n",
      "Epoch 56/100\n",
      "586/586 [==============================] - 22s 38ms/step - loss: 0.3134 - acc: 0.8893 - val_loss: 0.3113 - val_acc: 0.8854\n",
      "Epoch 57/100\n",
      "586/586 [==============================] - 23s 40ms/step - loss: 0.3121 - acc: 0.8897 - val_loss: 0.3498 - val_acc: 0.8576\n",
      "Epoch 58/100\n",
      "586/586 [==============================] - 23s 40ms/step - loss: 0.3111 - acc: 0.8877 - val_loss: 0.3599 - val_acc: 0.8628\n",
      "Epoch 59/100\n",
      "586/586 [==============================] - 23s 40ms/step - loss: 0.3108 - acc: 0.8896 - val_loss: 0.3389 - val_acc: 0.8819\n",
      "Epoch 60/100\n",
      "586/586 [==============================] - 23s 40ms/step - loss: 0.3117 - acc: 0.8891 - val_loss: 0.3286 - val_acc: 0.8837\n",
      "Epoch 61/100\n",
      "586/586 [==============================] - 23s 40ms/step - loss: 0.3109 - acc: 0.8898 - val_loss: 0.3465 - val_acc: 0.8733\n",
      "Epoch 62/100\n",
      "586/586 [==============================] - 24s 41ms/step - loss: 0.3148 - acc: 0.8885 - val_loss: 0.3881 - val_acc: 0.8507\n",
      "Epoch 63/100\n",
      "586/586 [==============================] - 24s 40ms/step - loss: 0.3121 - acc: 0.8887 - val_loss: 0.3715 - val_acc: 0.8646\n",
      "Epoch 64/100\n",
      "586/586 [==============================] - 23s 39ms/step - loss: 0.3112 - acc: 0.8900 - val_loss: 0.3342 - val_acc: 0.8681\n",
      "Epoch 65/100\n",
      "586/586 [==============================] - 23s 39ms/step - loss: 0.3082 - acc: 0.8927 - val_loss: 0.3617 - val_acc: 0.8750\n",
      "Epoch 66/100\n",
      "586/586 [==============================] - 24s 41ms/step - loss: 0.3108 - acc: 0.8915 - val_loss: 0.3737 - val_acc: 0.8628\n",
      "Epoch 67/100\n",
      "586/586 [==============================] - 23s 40ms/step - loss: 0.3130 - acc: 0.8873 - val_loss: 0.3737 - val_acc: 0.8681\n",
      "Epoch 68/100\n",
      "586/586 [==============================] - 23s 39ms/step - loss: 0.3074 - acc: 0.8923 - val_loss: 0.3382 - val_acc: 0.8767\n",
      "Epoch 69/100\n",
      "586/586 [==============================] - 23s 40ms/step - loss: 0.3057 - acc: 0.8938 - val_loss: 0.3702 - val_acc: 0.8663\n",
      "Epoch 70/100\n",
      "586/586 [==============================] - 24s 41ms/step - loss: 0.3121 - acc: 0.8905 - val_loss: 0.3608 - val_acc: 0.8576\n",
      "Epoch 71/100\n",
      "586/586 [==============================] - 23s 40ms/step - loss: 0.3139 - acc: 0.8881 - val_loss: 0.3336 - val_acc: 0.8854\n",
      "Epoch 72/100\n",
      "586/586 [==============================] - 23s 40ms/step - loss: 0.3067 - acc: 0.8914 - val_loss: 0.3557 - val_acc: 0.8698\n",
      "Epoch 73/100\n",
      "586/586 [==============================] - 23s 39ms/step - loss: 0.3127 - acc: 0.8892 - val_loss: 0.3923 - val_acc: 0.8455\n",
      "Epoch 74/100\n",
      "586/586 [==============================] - 23s 40ms/step - loss: 0.3104 - acc: 0.8899 - val_loss: 0.3189 - val_acc: 0.8906\n",
      "Epoch 75/100\n",
      "586/586 [==============================] - 24s 41ms/step - loss: 0.3134 - acc: 0.8895 - val_loss: 0.3448 - val_acc: 0.8681\n",
      "Epoch 76/100\n",
      "586/586 [==============================] - 24s 40ms/step - loss: 0.3058 - acc: 0.8921 - val_loss: 0.3810 - val_acc: 0.8507\n",
      "Epoch 77/100\n",
      "586/586 [==============================] - 23s 39ms/step - loss: 0.3088 - acc: 0.8919 - val_loss: 0.3660 - val_acc: 0.8559\n",
      "Epoch 78/100\n",
      "586/586 [==============================] - 23s 40ms/step - loss: 0.3048 - acc: 0.8927 - val_loss: 0.3448 - val_acc: 0.8750\n",
      "Epoch 79/100\n",
      "586/586 [==============================] - 23s 40ms/step - loss: 0.3081 - acc: 0.8900 - val_loss: 0.3585 - val_acc: 0.8611\n",
      "Epoch 80/100\n",
      "586/586 [==============================] - 23s 39ms/step - loss: 0.3122 - acc: 0.8880 - val_loss: 0.3801 - val_acc: 0.8385\n",
      "Epoch 81/100\n",
      "586/586 [==============================] - 23s 40ms/step - loss: 0.3069 - acc: 0.8909 - val_loss: 0.3365 - val_acc: 0.8785\n",
      "Epoch 82/100\n",
      "586/586 [==============================] - 23s 39ms/step - loss: 0.3103 - acc: 0.8897 - val_loss: 0.3359 - val_acc: 0.8750\n",
      "Epoch 83/100\n",
      "586/586 [==============================] - 23s 40ms/step - loss: 0.3044 - acc: 0.8921 - val_loss: 0.3373 - val_acc: 0.8767\n",
      "Epoch 84/100\n",
      "586/586 [==============================] - 23s 39ms/step - loss: 0.3086 - acc: 0.8906 - val_loss: 0.3685 - val_acc: 0.8611\n",
      "Epoch 85/100\n",
      "586/586 [==============================] - 22s 38ms/step - loss: 0.3058 - acc: 0.8917 - val_loss: 0.3291 - val_acc: 0.8767\n",
      "Epoch 86/100\n",
      "586/586 [==============================] - 23s 39ms/step - loss: 0.3075 - acc: 0.8898 - val_loss: 0.3617 - val_acc: 0.8594\n",
      "Epoch 87/100\n",
      "586/586 [==============================] - 23s 40ms/step - loss: 0.3088 - acc: 0.8923 - val_loss: 0.3503 - val_acc: 0.8628\n",
      "Epoch 88/100\n",
      "586/586 [==============================] - 23s 38ms/step - loss: 0.3094 - acc: 0.8914 - val_loss: 0.3615 - val_acc: 0.8681\n",
      "Epoch 89/100\n",
      "586/586 [==============================] - 23s 39ms/step - loss: 0.3077 - acc: 0.8898 - val_loss: 0.3379 - val_acc: 0.8715\n",
      "Epoch 90/100\n",
      "586/586 [==============================] - 23s 39ms/step - loss: 0.3080 - acc: 0.8915 - val_loss: 0.3464 - val_acc: 0.8767\n",
      "Epoch 91/100\n",
      "586/586 [==============================] - 23s 39ms/step - loss: 0.3078 - acc: 0.8916 - val_loss: 0.3416 - val_acc: 0.8750\n",
      "Epoch 92/100\n",
      "586/586 [==============================] - 23s 39ms/step - loss: 0.3046 - acc: 0.8905 - val_loss: 0.3747 - val_acc: 0.8628\n",
      "Epoch 93/100\n",
      "586/586 [==============================] - 25s 43ms/step - loss: 0.3090 - acc: 0.8903 - val_loss: 0.3567 - val_acc: 0.8576\n",
      "Epoch 94/100\n",
      "586/586 [==============================] - 30s 50ms/step - loss: 0.2993 - acc: 0.8954 - val_loss: 0.3761 - val_acc: 0.8559\n",
      "Epoch 95/100\n",
      "586/586 [==============================] - 27s 46ms/step - loss: 0.3110 - acc: 0.8889 - val_loss: 0.3542 - val_acc: 0.8715\n",
      "Epoch 96/100\n",
      "586/586 [==============================] - 27s 46ms/step - loss: 0.3080 - acc: 0.8927 - val_loss: 0.3382 - val_acc: 0.8785\n",
      "Epoch 97/100\n",
      "586/586 [==============================] - 27s 46ms/step - loss: 0.3082 - acc: 0.8929 - val_loss: 0.3503 - val_acc: 0.8750\n",
      "Epoch 98/100\n",
      "586/586 [==============================] - 28s 48ms/step - loss: 0.3074 - acc: 0.8906 - val_loss: 0.3898 - val_acc: 0.8490\n",
      "Epoch 99/100\n",
      "586/586 [==============================] - 30s 52ms/step - loss: 0.3094 - acc: 0.8906 - val_loss: 0.3461 - val_acc: 0.8750\n",
      "Epoch 100/100\n",
      "586/586 [==============================] - 31s 53ms/step - loss: 0.3067 - acc: 0.8915 - val_loss: 0.3379 - val_acc: 0.8663\n"
     ]
    },
    {
     "data": {
      "text/plain": [
       "<keras.callbacks.History at 0x1266d0470>"
      ]
     },
     "execution_count": 26,
     "metadata": {},
     "output_type": "execute_result"
    }
   ],
   "source": [
    "batch_size=32\n",
    "train_gen = data_generator(batch_size,'../Data/bal_laugh_speech_subset.tfrecord')\n",
    "val_gen = data_generator(32,'../Data/eval_laugh_speech_subset.tfrecord')\n",
    "\n",
    "model.fit_generator(train_gen,steps_per_epoch=18768//batch_size,epochs=100,validation_data=val_gen,validation_steps=586//32)"
   ]
  },
  {
   "cell_type": "code",
   "execution_count": 30,
   "metadata": {},
   "outputs": [
    {
     "ename": "AttributeError",
     "evalue": "'Model' object has no attribute 'history'",
     "output_type": "error",
     "traceback": [
      "\u001b[0;31m---------------------------------------------------------------------------\u001b[0m",
      "\u001b[0;31mAttributeError\u001b[0m                            Traceback (most recent call last)",
      "\u001b[0;32m<ipython-input-30-13821dff867f>\u001b[0m in \u001b[0;36m<module>\u001b[0;34m()\u001b[0m\n\u001b[0;32m----> 1\u001b[0;31m \u001b[0mplt\u001b[0m\u001b[0;34m.\u001b[0m\u001b[0mplot\u001b[0m\u001b[0;34m(\u001b[0m\u001b[0mmodel\u001b[0m\u001b[0;34m.\u001b[0m\u001b[0mhistory\u001b[0m\u001b[0;34m.\u001b[0m\u001b[0mhistory\u001b[0m\u001b[0;34m[\u001b[0m\u001b[0;34m'loss'\u001b[0m\u001b[0;34m]\u001b[0m\u001b[0;34m,\u001b[0m \u001b[0mlabel\u001b[0m\u001b[0;34m=\u001b[0m\u001b[0;34m'train_acc'\u001b[0m\u001b[0;34m)\u001b[0m\u001b[0;34m\u001b[0m\u001b[0m\n\u001b[0m\u001b[1;32m      2\u001b[0m \u001b[0mplt\u001b[0m\u001b[0;34m.\u001b[0m\u001b[0mplot\u001b[0m\u001b[0;34m(\u001b[0m\u001b[0mmodel\u001b[0m\u001b[0;34m.\u001b[0m\u001b[0mhistory\u001b[0m\u001b[0;34m.\u001b[0m\u001b[0mhistory\u001b[0m\u001b[0;34m[\u001b[0m\u001b[0;34m'val_acc'\u001b[0m\u001b[0;34m]\u001b[0m\u001b[0;34m,\u001b[0m \u001b[0mlabel\u001b[0m\u001b[0;34m=\u001b[0m\u001b[0;34m'val_acc'\u001b[0m\u001b[0;34m)\u001b[0m\u001b[0;34m\u001b[0m\u001b[0m\n\u001b[1;32m      3\u001b[0m \u001b[0mplt\u001b[0m\u001b[0;34m.\u001b[0m\u001b[0mlegend\u001b[0m\u001b[0;34m(\u001b[0m\u001b[0;34m)\u001b[0m\u001b[0;34m\u001b[0m\u001b[0m\n",
      "\u001b[0;31mAttributeError\u001b[0m: 'Model' object has no attribute 'history'"
     ]
    }
   ],
   "source": [
    "plt.plot(model.history.history['acc'], label='train_acc')\n",
    "plt.plot(model.history.history['val_acc'], label='val_acc')\n",
    "plt.legend()"
   ]
  },
  {
   "cell_type": "code",
   "execution_count": 28,
   "metadata": {},
   "outputs": [],
   "source": [
    "model.save('../Models/laugh_speech_full_100.h5')"
   ]
  },
  {
   "cell_type": "markdown",
   "metadata": {},
   "source": [
    "## 3 layer"
   ]
  },
  {
   "cell_type": "code",
   "execution_count": 33,
   "metadata": {},
   "outputs": [
    {
     "name": "stderr",
     "output_type": "stream",
     "text": [
      "/Users/nsteins/Documents/DeepProduct/env/lib/python3.6/site-packages/ipykernel_launcher.py:24: UserWarning: Update your `Model` call to the Keras 2 API: `Model(inputs=Tensor(\"in..., outputs=Tensor(\"de...)`\n"
     ]
    }
   ],
   "source": [
    "from keras.models import Sequential, Model\n",
    "from keras.layers import Dense, Dropout, BatchNormalization\n",
    "from keras.layers import LSTM\n",
    "from keras import regularizers\n",
    "\n",
    "inp = keras.Input((None, 128))\n",
    "x = BatchNormalization()(inp)\n",
    "\n",
    "x = LSTM(128, activation='relu', dropout = 0.5,\n",
    "        kernel_regularizer=regularizers.l2(0.01),\n",
    "        activity_regularizer=regularizers.l2(0.01),\n",
    "        return_sequences=True)(x)\n",
    "x = LSTM(128, activation='relu', dropout = 0.5,\n",
    "        kernel_regularizer=regularizers.l2(0.01),\n",
    "        activity_regularizer=regularizers.l2(0.01),\n",
    "        return_sequences=True)(x)\n",
    "\n",
    "x = LSTM(128, activation='relu', dropout = 0.5,\n",
    "        kernel_regularizer=regularizers.l2(0.01),\n",
    "        activity_regularizer=regularizers.l2(0.01))(x)\n",
    "\n",
    "output = Dense(1, activation='sigmoid')(x)\n",
    "\n",
    "model = Model(input=inp, output=output)\n",
    "\n",
    "# try using different optimizers and different optimizer configs\n",
    "model.compile(loss='binary_crossentropy',\n",
    "              optimizer='rmsprop',\n",
    "              metrics=['accuracy'])"
   ]
  },
  {
   "cell_type": "code",
   "execution_count": null,
   "metadata": {},
   "outputs": [
    {
     "name": "stdout",
     "output_type": "stream",
     "text": [
      "Epoch 1/100\n",
      "586/586 [==============================] - 38s 64ms/step - loss: 3.5279 - acc: 0.5030 - val_loss: 0.6936 - val_acc: 0.5000\n",
      "Epoch 2/100\n",
      "586/586 [==============================] - 33s 57ms/step - loss: 0.6937 - acc: 0.4970 - val_loss: 0.6936 - val_acc: 0.5174\n",
      "Epoch 3/100\n",
      "586/586 [==============================] - 29s 50ms/step - loss: 0.6936 - acc: 0.4988 - val_loss: 0.6934 - val_acc: 0.5174\n",
      "Epoch 4/100\n",
      "586/586 [==============================] - 25913s 44s/step - loss: 0.6937 - acc: 0.4980 - val_loss: 0.6937 - val_acc: 0.4965\n",
      "Epoch 5/100\n",
      "380/586 [==================>...........] - ETA: 48:31 - loss: 0.6937 - acc: 0.4991"
     ]
    }
   ],
   "source": [
    "batch_size=32\n",
    "train_gen = data_generator(batch_size,'../Data/bal_laugh_speech_subset.tfrecord')\n",
    "val_gen = data_generator(32,'../Data/eval_laugh_speech_subset.tfrecord')\n",
    "\n",
    "model.fit_generator(train_gen,steps_per_epoch=18768//batch_size,epochs=100,validation_data=val_gen,validation_steps=586//32)"
   ]
  },
  {
   "cell_type": "code",
   "execution_count": null,
   "metadata": {},
   "outputs": [],
   "source": []
  }
 ],
 "metadata": {
  "kernelspec": {
   "display_name": "env",
   "language": "python",
   "name": "env"
  },
  "language_info": {
   "codemirror_mode": {
    "name": "ipython",
    "version": 3
   },
   "file_extension": ".py",
   "mimetype": "text/x-python",
   "name": "python",
   "nbconvert_exporter": "python",
   "pygments_lexer": "ipython3",
   "version": "3.6.1"
  }
 },
 "nbformat": 4,
 "nbformat_minor": 2
}
