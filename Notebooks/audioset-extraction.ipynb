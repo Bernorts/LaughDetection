{
 "cells": [
  {
   "cell_type": "code",
   "execution_count": 1,
   "metadata": {},
   "outputs": [
    {
     "name": "stderr",
     "output_type": "stream",
     "text": [
      "/Users/nsteins/Documents/DeepProduct/env/lib/python3.6/importlib/_bootstrap.py:205: RuntimeWarning: compiletime version 3.5 of module 'tensorflow.python.framework.fast_tensor_util' does not match runtime version 3.6\n",
      "  return f(*args, **kwds)\n",
      "/Users/nsteins/Documents/DeepProduct/env/lib/python3.6/site-packages/h5py/__init__.py:34: FutureWarning: Conversion of the second argument of issubdtype from `float` to `np.floating` is deprecated. In future, it will be treated as `np.float64 == np.dtype(float).type`.\n",
      "  from ._conv import register_converters as _register_converters\n",
      "Using TensorFlow backend.\n"
     ]
    }
   ],
   "source": [
    "%matplotlib inline\n",
    "import matplotlib.pyplot as plt\n",
    "import numpy as np\n",
    "import tensorflow as tf\n",
    "import keras\n",
    "import pandas as pd"
   ]
  },
  {
   "cell_type": "code",
   "execution_count": 3,
   "metadata": {},
   "outputs": [],
   "source": [
    "labels = pd.read_csv('../Data/unbalanced_train_segments.csv',header=2, quotechar=r'\"',skipinitialspace=True)"
   ]
  },
  {
   "cell_type": "code",
   "execution_count": 6,
   "metadata": {},
   "outputs": [],
   "source": [
    "laugh_labels = pd.read_csv('../Data/laugh_labels.csv',names=['num','label','description'])"
   ]
  },
  {
   "cell_type": "code",
   "execution_count": 11,
   "metadata": {},
   "outputs": [],
   "source": [
    "not_laugh_labels = pd.read_csv('../Data/human_non_laugh_labels.csv',names=['num','label','description'])"
   ]
  },
  {
   "cell_type": "code",
   "execution_count": 7,
   "metadata": {},
   "outputs": [
    {
     "data": {
      "text/html": [
       "<div>\n",
       "<style>\n",
       "    .dataframe thead tr:only-child th {\n",
       "        text-align: right;\n",
       "    }\n",
       "\n",
       "    .dataframe thead th {\n",
       "        text-align: left;\n",
       "    }\n",
       "\n",
       "    .dataframe tbody tr th {\n",
       "        vertical-align: top;\n",
       "    }\n",
       "</style>\n",
       "<table border=\"1\" class=\"dataframe\">\n",
       "  <thead>\n",
       "    <tr style=\"text-align: right;\">\n",
       "      <th></th>\n",
       "      <th>num</th>\n",
       "      <th>label</th>\n",
       "      <th>description</th>\n",
       "    </tr>\n",
       "  </thead>\n",
       "  <tbody>\n",
       "    <tr>\n",
       "      <th>0</th>\n",
       "      <td>16</td>\n",
       "      <td>/m/01j3sz</td>\n",
       "      <td>Laughter</td>\n",
       "    </tr>\n",
       "    <tr>\n",
       "      <th>1</th>\n",
       "      <td>17</td>\n",
       "      <td>/t/dd00001</td>\n",
       "      <td>Baby laughter</td>\n",
       "    </tr>\n",
       "    <tr>\n",
       "      <th>2</th>\n",
       "      <td>18</td>\n",
       "      <td>/m/07r660_</td>\n",
       "      <td>Giggle</td>\n",
       "    </tr>\n",
       "    <tr>\n",
       "      <th>3</th>\n",
       "      <td>19</td>\n",
       "      <td>/m/07s04w4</td>\n",
       "      <td>Snicker</td>\n",
       "    </tr>\n",
       "    <tr>\n",
       "      <th>4</th>\n",
       "      <td>20</td>\n",
       "      <td>/m/07sq110</td>\n",
       "      <td>Belly laugh</td>\n",
       "    </tr>\n",
       "    <tr>\n",
       "      <th>5</th>\n",
       "      <td>21</td>\n",
       "      <td>/m/07rgt08</td>\n",
       "      <td>Chuckle, chortle</td>\n",
       "    </tr>\n",
       "  </tbody>\n",
       "</table>\n",
       "</div>"
      ],
      "text/plain": [
       "   num       label       description\n",
       "0   16   /m/01j3sz          Laughter\n",
       "1   17  /t/dd00001     Baby laughter\n",
       "2   18  /m/07r660_            Giggle\n",
       "3   19  /m/07s04w4           Snicker\n",
       "4   20  /m/07sq110       Belly laugh\n",
       "5   21  /m/07rgt08  Chuckle, chortle"
      ]
     },
     "execution_count": 7,
     "metadata": {},
     "output_type": "execute_result"
    }
   ],
   "source": [
    "laugh_labels"
   ]
  },
  {
   "cell_type": "code",
   "execution_count": 8,
   "metadata": {},
   "outputs": [],
   "source": [
    "l_str = '|'.join(laugh_labels['label'].values)"
   ]
  },
  {
   "cell_type": "code",
   "execution_count": 9,
   "metadata": {},
   "outputs": [],
   "source": [
    "labels['laughter'] = labels['positive_labels'].str.contains(l_str)"
   ]
  },
  {
   "cell_type": "code",
   "execution_count": 8,
   "metadata": {},
   "outputs": [],
   "source": [
    "positive = labels[labels['laughter']==True]\n",
    "negative = labels[labels['laughter']==False].sample(positive.shape[0])\n",
    "subset = positive.append(negative)\n",
    "subset.to_csv('laugh_training_subset.csv')"
   ]
  },
  {
   "cell_type": "code",
   "execution_count": 9,
   "metadata": {},
   "outputs": [
    {
     "name": "stderr",
     "output_type": "stream",
     "text": [
      "/Users/nsteins/Documents/DeepProduct/env/lib/python3.6/site-packages/sklearn/model_selection/_split.py:2026: FutureWarning: From version 0.21, test_size will always complement train_size unless both are specified.\n",
      "  FutureWarning)\n"
     ]
    }
   ],
   "source": [
    "from sklearn.model_selection import train_test_split\n",
    "X_train, X_test, y_train, y_test = train_test_split(subset['# YTID'],subset['laughter'],train_size=0.8)"
   ]
  },
  {
   "cell_type": "code",
   "execution_count": 10,
   "metadata": {},
   "outputs": [
    {
     "ename": "NameError",
     "evalue": "name 'files' is not defined",
     "output_type": "error",
     "traceback": [
      "\u001b[0;31m---------------------------------------------------------------------------\u001b[0m",
      "\u001b[0;31mNameError\u001b[0m                                 Traceback (most recent call last)",
      "\u001b[0;32m<ipython-input-10-4ea7a5097726>\u001b[0m in \u001b[0;36m<module>\u001b[0;34m()\u001b[0m\n\u001b[0;32m----> 1\u001b[0;31m \u001b[0mfiles\u001b[0m\u001b[0;34m\u001b[0m\u001b[0m\n\u001b[0m",
      "\u001b[0;31mNameError\u001b[0m: name 'files' is not defined"
     ]
    }
   ],
   "source": [
    "files"
   ]
  },
  {
   "cell_type": "code",
   "execution_count": 13,
   "metadata": {},
   "outputs": [],
   "source": [
    "import glob\n",
    "files = glob.glob('audioset_v1_embeddings/unbal_train/A0.tfrecord')\n",
    "filename_queue = tf.train.string_input_producer(files, num_epochs=1)"
   ]
  },
  {
   "cell_type": "code",
   "execution_count": null,
   "metadata": {},
   "outputs": [],
   "source": [
    "%%time\n",
    "audio_embeddings_dict = {}\n",
    "audio_labels_dict = {}\n",
    "\n",
    "#Load embeddings\n",
    "sess = tf.Session()\n",
    "files = glob.glob('audioset_v1_embeddings/unbal_train/*')\n",
    "\n",
    "examples = subset['# YTID'].values\n",
    "\n",
    "for tfrecord in files:\n",
    "    for example in tf.python_io.tf_record_iterator(tfrecord):\n",
    "        tf_example = tf.train.Example.FromString(example)\n",
    "        vid_id = tf_example.features.feature['video_id'].bytes_list.value[0].decode(encoding = 'UTF-8')\n",
    "        if vid_id in examples:\n",
    "            example_label = list(np.asarray(tf_example.features.feature['labels'].int64_list.value))\n",
    "            tf_seq_example = tf.train.SequenceExample.FromString(example)\n",
    "            n_frames = len(tf_seq_example.feature_lists.feature_list['audio_embedding'].feature)\n",
    "            \n",
    "            audio_frame = []\n",
    "            for i in range(n_frames):\n",
    "                audio_frame.append(tf.cast(tf.decode_raw(tf_seq_example.feature_lists.feature_list['audio_embedding'].\n",
    "                                                         feature[i].bytes_list.value[0],tf.uint8\n",
    "                                                        ),tf.float32))\n",
    "                audio_embeddings_dict[vid_id] = audio_frame\n",
    "                audio_labels_dict[vid_id] = example_label"
   ]
  },
  {
   "cell_type": "code",
   "execution_count": 15,
   "metadata": {},
   "outputs": [
    {
     "name": "stdout",
     "output_type": "stream",
     "text": [
      "CPU times: user 26min 31s, sys: 17.1 s, total: 26min 49s\n",
      "Wall time: 27min 4s\n"
     ]
    }
   ],
   "source": [
    "%%time\n",
    "\n",
    "files = glob.glob('audioset_v1_embeddings/unbal_train/*')\n",
    "subset_ids = subset['# YTID'].values\n",
    "\n",
    "writer = tf.python_io.TFRecordWriter('bal_laugh_subset.tfrecord')\n",
    "for tfrecord in files:\n",
    "    for example in tf.python_io.tf_record_iterator(tfrecord):\n",
    "        tf_example = tf.train.Example.FromString(example)\n",
    "        vid_id = tf_example.features.feature['video_id'].bytes_list.value[0].decode(encoding = 'UTF-8')\n",
    "        if vid_id in subset_ids:\n",
    "            writer.write(example)\n",
    "\n",
    "writer.close()"
   ]
  },
  {
   "cell_type": "code",
   "execution_count": 16,
   "metadata": {},
   "outputs": [
    {
     "name": "stdout",
     "output_type": "stream",
     "text": [
      "586\n",
      "CPU times: user 2.74 s, sys: 558 ms, total: 3.3 s\n",
      "Wall time: 4.13 s\n"
     ]
    }
   ],
   "source": [
    "%%time\n",
    "labels = pd.read_csv('eval_segments.csv',header=2, quotechar=r'\"',skipinitialspace=True)\n",
    "labels['laughter'] = labels['positive_labels'].str.contains(l_str)\n",
    "positive = labels[labels['laughter']==True]\n",
    "negative = labels[labels['laughter']==False].sample(positive.shape[0])\n",
    "subset = positive.append(negative)\n",
    "print(subset.shape[0])\n",
    "subset.to_csv('eval_laugh_training_subset.csv')\n",
    "\n",
    "\n",
    "files = glob.glob('audioset_v1_embeddings/eval/*')\n",
    "subset_ids = subset['# YTID'].values\n",
    "\n",
    "writer = tf.python_io.TFRecordWriter('eval_laugh_subset.tfrecord')\n",
    "for tfrecord in files:\n",
    "    for example in tf.python_io.tf_record_iterator(tfrecord):\n",
    "        tf_example = tf.train.Example.FromString(example)\n",
    "        vid_id = tf_example.features.feature['video_id'].bytes_list.value[0].decode(encoding = 'UTF-8')\n",
    "        if vid_id in subset_ids:\n",
    "            writer.write(example)\n",
    "\n",
    "writer.close()"
   ]
  },
  {
   "cell_type": "code",
   "execution_count": 3,
   "metadata": {},
   "outputs": [],
   "source": [
    "for example in tf.python_io.tf_record_iterator('bal_laugh_subset.tfrecord'):\n",
    "    tf_example = tf.train.SequenceExample.FromString(example)"
   ]
  },
  {
   "cell_type": "code",
   "execution_count": 17,
   "metadata": {},
   "outputs": [
    {
     "data": {
      "text/plain": [
       "array([178.,  65.,  43., 163., 129., 144.,  53.,  81., 159., 138., 237.,\n",
       "       143., 112.,  94., 132.,  90., 194., 143., 148.,  56., 215., 151.,\n",
       "       102., 145.,  96., 126., 128.,  56., 102., 165.,  75.,  92., 162.,\n",
       "       142., 129., 140., 105., 123.,  89., 119.,  95., 118., 111., 176.,\n",
       "        84., 150., 197.,  62., 155., 197., 183.,   0., 171., 142.,  82.,\n",
       "       142., 255.,  56., 174., 242., 180.,   0., 182., 122.,  52.,  86.,\n",
       "       107., 219., 161., 235., 166.,  76.,  85.,  81.,  70., 255., 255.,\n",
       "       141., 124., 255., 126., 149.,  97., 172., 102.,  83., 195.,   3.,\n",
       "        33., 217.,   1., 131., 199.,  49.,  67., 153., 143.,  72., 178.,\n",
       "        32., 177.,  20., 120., 150., 112., 125., 116., 106., 158., 125.,\n",
       "       158., 126., 255., 118., 189.,  94., 137., 135., 193., 142., 174.,\n",
       "        83., 150., 114., 255., 142., 103., 255.], dtype=float32)"
      ]
     },
     "execution_count": 17,
     "metadata": {},
     "output_type": "execute_result"
    }
   ],
   "source": [
    "np.frombuffer(tf_example.feature_lists.feature_list['audio_embedding'].feature[0].bytes_list.value[0],np.uint8).astype(np.float32)"
   ]
  },
  {
   "cell_type": "markdown",
   "metadata": {},
   "source": [
    "## Create Balanced Laughter/speech dataset"
   ]
  },
  {
   "cell_type": "code",
   "execution_count": 25,
   "metadata": {},
   "outputs": [],
   "source": [
    "n_str = '|'.join(not_laugh_labels['label'].values)\n",
    "labels['not_laughter'] = (labels['positive_labels'].str.contains(n_str) & ~labels['positive_labels'].str.contains(l_str))"
   ]
  },
  {
   "cell_type": "code",
   "execution_count": 27,
   "metadata": {},
   "outputs": [],
   "source": [
    "positive = labels[labels['laughter']==True]\n",
    "negative = labels[labels['not_laughter']==True].sample(positive.shape[0])\n",
    "subset = positive.append(negative)\n",
    "subset.to_csv('../Data/laugh_speech_training_subset.csv')"
   ]
  },
  {
   "cell_type": "code",
   "execution_count": 32,
   "metadata": {},
   "outputs": [
    {
     "name": "stdout",
     "output_type": "stream",
     "text": [
      "CPU times: user 18min 45s, sys: 10 s, total: 18min 55s\n",
      "Wall time: 19min 4s\n"
     ]
    }
   ],
   "source": [
    "%%time\n",
    "import glob\n",
    "files = glob.glob('../Data/audioset_v1_embeddings/unbal_train/*')\n",
    "subset_ids = subset['# YTID'].values\n",
    "\n",
    "writer = tf.python_io.TFRecordWriter('../Data/bal_laugh_speech_subset.tfrecord')\n",
    "for tfrecord in files:\n",
    "    for example in tf.python_io.tf_record_iterator(tfrecord):\n",
    "        tf_example = tf.train.Example.FromString(example)\n",
    "        vid_id = tf_example.features.feature['video_id'].bytes_list.value[0].decode(encoding = 'UTF-8')\n",
    "        if vid_id in subset_ids:\n",
    "            writer.write(example)\n",
    "\n",
    "writer.close()"
   ]
  },
  {
   "cell_type": "code",
   "execution_count": 34,
   "metadata": {},
   "outputs": [
    {
     "name": "stdout",
     "output_type": "stream",
     "text": [
      "586\n",
      "CPU times: user 3.3 s, sys: 412 ms, total: 3.71 s\n",
      "Wall time: 4.67 s\n"
     ]
    }
   ],
   "source": [
    "%%time\n",
    "labels = pd.read_csv('../Data/eval_segments.csv',header=2, quotechar=r'\"',skipinitialspace=True)\n",
    "labels['laughter'] = labels['positive_labels'].str.contains(l_str)\n",
    "labels['not_laughter'] = (labels['positive_labels'].str.contains(n_str) & ~labels['positive_labels'].str.contains(l_str))\n",
    "\n",
    "\n",
    "positive = labels[labels['laughter']==True]\n",
    "negative = labels[labels['not_laughter']==True].sample(positive.shape[0])\n",
    "subset = positive.append(negative)\n",
    "subset.to_csv('../Data/eval_laugh_speech_training_subset.csv')\n",
    "print(subset.shape[0])\n",
    "\n",
    "\n",
    "files = glob.glob('../Data/audioset_v1_embeddings/eval/*')\n",
    "subset_ids = subset['# YTID'].values\n",
    "\n",
    "writer = tf.python_io.TFRecordWriter('../Data/eval_laugh_speech_subset.tfrecord')\n",
    "for tfrecord in files:\n",
    "    for example in tf.python_io.tf_record_iterator(tfrecord):\n",
    "        tf_example = tf.train.Example.FromString(example)\n",
    "        vid_id = tf_example.features.feature['video_id'].bytes_list.value[0].decode(encoding = 'UTF-8')\n",
    "        if vid_id in subset_ids:\n",
    "            writer.write(example)\n",
    "\n",
    "writer.close()"
   ]
  },
  {
   "cell_type": "code",
   "execution_count": null,
   "metadata": {},
   "outputs": [],
   "source": []
  }
 ],
 "metadata": {
  "kernelspec": {
   "display_name": "env",
   "language": "python",
   "name": "env"
  },
  "language_info": {
   "codemirror_mode": {
    "name": "ipython",
    "version": 3
   },
   "file_extension": ".py",
   "mimetype": "text/x-python",
   "name": "python",
   "nbconvert_exporter": "python",
   "pygments_lexer": "ipython3",
   "version": "3.6.1"
  }
 },
 "nbformat": 4,
 "nbformat_minor": 2
}
