{
 "cells": [
  {
   "cell_type": "code",
   "execution_count": 3,
   "metadata": {},
   "outputs": [
    {
     "name": "stdout",
     "output_type": "stream",
     "text": [
      "Requirement already satisfied: phue in /Users/nsteins/anaconda3/lib/python3.6/site-packages\n"
     ]
    }
   ],
   "source": [
    "!pip install phue"
   ]
  },
  {
   "cell_type": "code",
   "execution_count": 148,
   "metadata": {},
   "outputs": [],
   "source": [
    "from phue import Bridge\n",
    "\n",
    "b = Bridge('10.3.2.71')"
   ]
  },
  {
   "cell_type": "code",
   "execution_count": 41,
   "metadata": {},
   "outputs": [
    {
     "data": {
      "text/plain": [
       "True"
      ]
     },
     "execution_count": 41,
     "metadata": {},
     "output_type": "execute_result"
    }
   ],
   "source": [
    "b.get_light(1, 'on')\n"
   ]
  },
  {
   "cell_type": "code",
   "execution_count": 42,
   "metadata": {},
   "outputs": [],
   "source": [
    "lights = b.lights\n"
   ]
  },
  {
   "cell_type": "code",
   "execution_count": 151,
   "metadata": {},
   "outputs": [
    {
     "name": "stderr",
     "output_type": "stream",
     "text": [
      "ERROR: parameter, ct, is not modifiable. Device is set to off. for light 1\n",
      "ERROR: parameter, ct, is not modifiable. Device is set to off. for light 2\n"
     ]
    }
   ],
   "source": [
    "blue = 46920\n",
    "red = 65280\n",
    "yellow = 12750\n",
    "blue_xy = [0.1691,0.0441]\n",
    "white_xy = [0.4051, 0.3906]\n",
    "for l in lights[:2]:\n",
    "    l.brightness = 255\n",
    "    #l.hue = 12750\n",
    "    l.on = False\n",
    "    #l.xy = [0.35,0.4]\n",
    "    l.colortemp_k = 3500"
   ]
  },
  {
   "cell_type": "code",
   "execution_count": 95,
   "metadata": {},
   "outputs": [],
   "source": [
    "def map_range(x,s,e):\n",
    "    d = e-s\n",
    "    return s+d*x"
   ]
  },
  {
   "cell_type": "code",
   "execution_count": 142,
   "metadata": {},
   "outputs": [],
   "source": [
    "def set_light(b_score, c_score):\n",
    "    for l in lights[:2]:\n",
    "        l.brightness = int(map_range(b_score,0,255))\n",
    "        l.xy = list(map_range(c_score, np.array(blue_xy), np.array(white_xy)))\n"
   ]
  },
  {
   "cell_type": "code",
   "execution_count": 146,
   "metadata": {},
   "outputs": [],
   "source": [
    "set_light(0.5,0)"
   ]
  },
  {
   "cell_type": "code",
   "execution_count": 139,
   "metadata": {},
   "outputs": [
    {
     "data": {
      "text/plain": [
       "array([0.29205, 0.2197 ])"
      ]
     },
     "execution_count": 139,
     "metadata": {},
     "output_type": "execute_result"
    }
   ],
   "source": [
    "import numpy as np\n",
    "map_range(0.5, np.array(blue_xy), np.array(white_xy))"
   ]
  },
  {
   "cell_type": "code",
   "execution_count": null,
   "metadata": {},
   "outputs": [],
   "source": []
  }
 ],
 "metadata": {
  "kernelspec": {
   "display_name": "env",
   "language": "python",
   "name": "env"
  },
  "language_info": {
   "codemirror_mode": {
    "name": "ipython",
    "version": 3
   },
   "file_extension": ".py",
   "mimetype": "text/x-python",
   "name": "python",
   "nbconvert_exporter": "python",
   "pygments_lexer": "ipython3",
   "version": "3.6.1"
  }
 },
 "nbformat": 4,
 "nbformat_minor": 2
}
